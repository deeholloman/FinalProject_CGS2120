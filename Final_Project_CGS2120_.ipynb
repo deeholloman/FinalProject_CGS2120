{
  "cells": [
    {
      "cell_type": "code",
      "execution_count": null,
      "metadata": {
        "id": "Nu-axCAYKRBc"
      },
      "outputs": [],
      "source": [
        "# Addition function\n",
        "def add(a, b):\n",
        "    \"\"\"Returns the sum of a and b.\"\"\"\n",
        "    return a + b\n",
        "\n",
        "# Subtraction function\n",
        "def subtract(a, b):\n",
        "    \"\"\"Returns the difference of a and b.\"\"\"\n",
        "    return a - b\n",
        "\n",
        "# Multiplication function\n",
        "def multiply(a, b):\n",
        "    \"\"\"Returns the product of a and b.\"\"\"\n",
        "    return a * b\n",
        "\n",
        "# Division function\n",
        "def divide(a, b):\n",
        "    \"\"\"Returns the quotient of a divided by b. Handles division by zero.\"\"\"\n",
        "    if b == 0:\n",
        "        return \"Error: Division by zero is undefined.\"\n",
        "    return a / b\n",
        "\n",
        "# Exponentiation function\n",
        "def power(a, b):\n",
        "    \"\"\"Returns a raised to the power of b.\"\"\"\n",
        "    return a ** b\n",
        "\n",
        "# Square root function\n",
        "def square_root(a):\n",
        "    \"\"\"Returns the square root of a. Handles negative inputs.\"\"\"\n",
        "    if a < 0:\n",
        "        return \"Error: Square root of a negative number is undefined.\"\n",
        "    return a ** 0.5"
      ]
    },
    {
      "cell_type": "code",
      "execution_count": null,
      "metadata": {
        "id": "AT3noXdXNX6y"
      },
      "outputs": [],
      "source": [
        "def calculator():\n",
        "    \"\"\"Main function for user interaction.\"\"\"\n",
        "    while True:\n",
        "        print(\"\\nSelect an operation:\")\n",
        "        print(\"1. Addition\")\n",
        "        print(\"2. Subtraction\")\n",
        "        print(\"3. Multiplication\")\n",
        "        print(\"4. Division\")\n",
        "        print(\"5. Exponentiation\")\n",
        "        print(\"6. Square Root\")\n",
        "        print(\"7. Exit\")\n",
        "\n",
        "        choice = input(\"Enter the number of the operation you'd like to perform: \")\n",
        "\n",
        "        if choice == \"7\":\n",
        "            print(\"Exiting the calculator. Goodbye!\")\n",
        "            break\n",
        "\n",
        "        if choice in [\"1\", \"2\", \"3\", \"4\", \"5\"]:\n",
        "            num1 = float(input(\"Enter the first number: \"))\n",
        "            num2 = float(input(\"Enter the second number: \"))\n",
        "\n",
        "            if choice == \"1\":\n",
        "                print(f\"Result: {add(num1, num2)}\")\n",
        "            elif choice == \"2\":\n",
        "                print(f\"Result: {subtract(num1, num2)}\")\n",
        "            elif choice == \"3\":\n",
        "                print(f\"Result: {multiply(num1, num2)}\")\n",
        "            elif choice == \"4\":\n",
        "                print(f\"Result: {divide(num1, num2)}\")\n",
        "            elif choice == \"5\":\n",
        "                print(f\"Result: {power(num1, num2)}\")\n",
        "\n",
        "        elif choice == \"6\":\n",
        "            num = float(input(\"Enter the number: \"))\n",
        "            print(f\"Result: {square_root(num)}\")\n",
        "\n",
        "        else:\n",
        "            print(\"Invalid input. Please try again.\")\n"
      ]
    },
    {
      "cell_type": "code",
      "execution_count": null,
      "metadata": {
        "colab": {
          "base_uri": "https://localhost:8080/"
        },
        "id": "7JfrsxmKVif3",
        "outputId": "34a3c9f5-7482-4356-d8b8-ac0b9c19d8d1"
      },
      "outputs": [
        {
          "output_type": "stream",
          "name": "stdout",
          "text": [
            "Addition: 12\n",
            "Subtraction: 6\n",
            "Multiplication: 42\n",
            "Division: 4.0\n",
            "Division by zero: Error: Division by zero is undefined.\n",
            "Exponentiation: 8\n",
            "Square Root: 4.0\n",
            "Square Root of negative: Error: Square root of a negative number is undefined.\n"
          ]
        }
      ],
      "source": [
        "# Test cases for arithmetic functions\n",
        "print(\"Addition:\", add(9, 3))\n",
        "print(\"Subtraction:\", subtract(10, 4))\n",
        "print(\"Multiplication:\", multiply(7, 6))\n",
        "print(\"Division:\", divide(8, 2))\n",
        "print(\"Division by zero:\", divide(8, 0))  # Should output error message\n",
        "print(\"Exponentiation:\", power(2, 3))  # Should output 8\n",
        "print(\"Square Root:\", square_root(16))  # Should output 4\n",
        "print(\"Square Root of negative:\", square_root(-4))  # Should output error message\n"
      ]
    },
    {
      "cell_type": "code",
      "execution_count": null,
      "metadata": {
        "colab": {
          "base_uri": "https://localhost:8080/"
        },
        "id": "0w47Rs2RSoqk",
        "outputId": "78e78f0d-5848-47a3-8f22-8b4cbf9083fa"
      },
      "outputs": [
        {
          "metadata": {
            "tags": null
          },
          "name": "stdout",
          "output_type": "stream",
          "text": [
            "\n",
            "Select an operation:\n",
            "1. Addition\n",
            "2. Subtraction\n",
            "3. Multiplication\n",
            "4. Division\n",
            "5. Exponentiation\n",
            "6. Square Root\n",
            "7. Exit\n",
            "Invalid input. Please try again.\n",
            "\n",
            "Select an operation:\n",
            "1. Addition\n",
            "2. Subtraction\n",
            "3. Multiplication\n",
            "4. Division\n",
            "5. Exponentiation\n",
            "6. Square Root\n",
            "7. Exit\n"
          ]
        }
      ],
      "source": [
        "calculator()\n"
      ]
    },
    {
      "cell_type": "code",
      "execution_count": null,
      "metadata": {
        "id": "0fFSUlrOWWzm"
      },
      "outputs": [],
      "source": [
        "### Analysis and Reflections\n",
        "\n",
        "#### Function Simplification\n",
        "The program is more organized because each tasked is handled by it's own funtion. This makes the code easier to read, fix, and update.\n",
        "\n",
        "#### Potential Improvements\n",
        "1. I could try to advanced mathematical operations, such as logarithms or factorials.\n",
        "2. Allow users to save their calculation history to a file for future reference, like how the iphone calculator does\n",
        "\n",
        "#### Lessons Learned\n",
        "This program showed me the importance of breaking down task into smaller reusable task. I also learned how to do tricky things such as dividing by zero."
      ]
    }
  ],
  "metadata": {
    "colab": {
      "provenance": []
    },
    "kernelspec": {
      "display_name": "Python 3",
      "name": "python3"
    },
    "language_info": {
      "name": "python"
    }
  },
  "nbformat": 4,
  "nbformat_minor": 0
}